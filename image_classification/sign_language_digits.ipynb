{
 "cells": [
  {
   "cell_type": "markdown",
   "metadata": {},
   "source": [
    "Image data for this task can be dowloaded from here: https://github.com/ardamavi/Sign-Language-Digits-Dataset"
   ]
  },
  {
   "cell_type": "code",
   "execution_count": null,
   "metadata": {},
   "outputs": [],
   "source": [
    "# Python 2.x\n",
    "from __future__ import division"
   ]
  },
  {
   "cell_type": "code",
   "execution_count": null,
   "metadata": {},
   "outputs": [],
   "source": [
    "import os\n",
    "\n",
    "import numpy as np\n",
    "import matplotlib.pyplot as plt\n",
    "\n",
    "from PIL import Image\n",
    "from collections import Counter\n",
    "from sklearn.model_selection import train_test_split\n",
    "from sklearn.linear_model import LogisticRegression\n",
    "\n",
    "from keras.utils import np_utils \n",
    "from keras.models import Model\n",
    "from keras.layers import Dense, Activation, Conv2D, MaxPooling2D, Input, Flatten\n",
    "from keras.initializers import glorot_uniform\n",
    "from keras import metrics"
   ]
  },
  {
   "cell_type": "code",
   "execution_count": null,
   "metadata": {},
   "outputs": [],
   "source": [
    "FOLDER = \"images/\"\n",
    "NR_CLASSES = 10"
   ]
  },
  {
   "cell_type": "code",
   "execution_count": null,
   "metadata": {},
   "outputs": [],
   "source": [
    "class ImageReader(object):\n",
    "    def __init__(self, folder, nrows=100, ncols=100):\n",
    "        self._folder = folder\n",
    "        self._nrows = nrows\n",
    "        self._ncols = ncols\n",
    "    \n",
    "    def _read_images(self):\n",
    "        labels = get_foldernames(self._folder)\n",
    "        for label in labels:\n",
    "            subfolder = self._folder + label + \"/\"\n",
    "            image_names = get_filenames(subfolder)\n",
    "            for filename in image_names:\n",
    "                path = subfolder + filename\n",
    "                image = np.array(Image.open(path).convert(\"L\")) / 255\n",
    "                yield image, label\n",
    "            \n",
    "    def read_data(self):\n",
    "        images = []\n",
    "        labels = []\n",
    "        input_data = self._read_images()\n",
    "        for image, label in input_data:\n",
    "            if image.shape == (self._nrows, self._ncols):   \n",
    "                images.append(image)\n",
    "                labels.append(label)\n",
    "        tensor = np.asarray(images)\n",
    "        length, row, col = tensor.shape\n",
    "        return tensor.reshape(length, row, col, 1), labels        \n",
    "    \n",
    "\n",
    "def get_foldernames(root):\n",
    "    return sorted([folder for folder in os.listdir(root) if os.path.isdir(os.path.join(root, folder))])\n",
    "\n",
    "\n",
    "def get_filenames(folder):\n",
    "    return sorted([f for f in os.listdir(folder) if os.path.isfile(os.path.join(folder, f))])"
   ]
  },
  {
   "cell_type": "code",
   "execution_count": null,
   "metadata": {},
   "outputs": [],
   "source": [
    "reader = ImageReader(FOLDER)"
   ]
  },
  {
   "cell_type": "code",
   "execution_count": null,
   "metadata": {},
   "outputs": [],
   "source": [
    "X, y = reader.read_data()"
   ]
  },
  {
   "cell_type": "code",
   "execution_count": null,
   "metadata": {},
   "outputs": [],
   "source": [
    "def print_image_for_each_label(X, y):\n",
    "    def find_index_of_label(y, label):\n",
    "        for ix, item in enumerate(y):\n",
    "            if item == label:\n",
    "                return ix\n",
    "  \n",
    "    fig = plt.figure(figsize=(16, 6))\n",
    "    labels = sorted(list(set(y)))\n",
    "    for p, label in enumerate(labels):\n",
    "        ix = find_index_of_label(y, label)\n",
    "        image = np.squeeze(X[ix, :])\n",
    "        img = fig.add_subplot(2, 5, p+1)\n",
    "        imgplot = plt.imshow(image, cmap='gray')\n",
    "    plt.show()"
   ]
  },
  {
   "cell_type": "code",
   "execution_count": null,
   "metadata": {},
   "outputs": [],
   "source": [
    "print_image_for_each_label(X, y)"
   ]
  },
  {
   "cell_type": "code",
   "execution_count": null,
   "metadata": {},
   "outputs": [],
   "source": [
    "def show_image(matrix):\n",
    "    fig = plt.figure(figsize=(4, 4))\n",
    "    img = fig.add_subplot(1, 1, 1)\n",
    "    imgplot = plt.imshow(np.squeeze(matrix), cmap='gray')\n",
    "    plt.show()"
   ]
  },
  {
   "cell_type": "code",
   "execution_count": null,
   "metadata": {},
   "outputs": [],
   "source": [
    "show_image(X[1000, :])"
   ]
  },
  {
   "cell_type": "code",
   "execution_count": null,
   "metadata": {},
   "outputs": [],
   "source": [
    "X_train, X_test, y_train, y_test = train_test_split(X, y, test_size=0.2, random_state=2112)"
   ]
  },
  {
   "cell_type": "code",
   "execution_count": null,
   "metadata": {},
   "outputs": [],
   "source": [
    "Counter(y_test)"
   ]
  },
  {
   "cell_type": "code",
   "execution_count": null,
   "metadata": {},
   "outputs": [],
   "source": [
    "m_train, image_size, _, _ = X_train.shape\n",
    "m_test = X_test.shape[0]"
   ]
  },
  {
   "cell_type": "code",
   "execution_count": null,
   "metadata": {},
   "outputs": [],
   "source": [
    "print(\"Number of training examples: {}\".format(m_train))"
   ]
  },
  {
   "cell_type": "code",
   "execution_count": null,
   "metadata": {},
   "outputs": [],
   "source": [
    "X_train_flattened = X_train.reshape(m_train, -1)\n",
    "X_test_flattened = X_test.reshape(m_test, -1)"
   ]
  },
  {
   "cell_type": "markdown",
   "metadata": {},
   "source": [
    "## Image classification with logistic regression"
   ]
  },
  {
   "cell_type": "code",
   "execution_count": null,
   "metadata": {},
   "outputs": [],
   "source": [
    "model = LogisticRegression(random_state=2112, C=0.01, solver=\"newton-cg\", multi_class=\"multinomial\")"
   ]
  },
  {
   "cell_type": "code",
   "execution_count": null,
   "metadata": {},
   "outputs": [],
   "source": [
    "model.fit(X_train_flattened, y_train)"
   ]
  },
  {
   "cell_type": "code",
   "execution_count": null,
   "metadata": {},
   "outputs": [],
   "source": [
    "predicted = model.predict(X_test_flattened)"
   ]
  },
  {
   "cell_type": "code",
   "execution_count": null,
   "metadata": {},
   "outputs": [],
   "source": [
    "well_classified = [ix for ix, (pred, ground) in enumerate(zip(predicted, y_test)) if pred == ground]\n",
    "misclassified = [ix for ix, (pred, ground) in enumerate(zip(predicted, y_test)) if pred != ground]"
   ]
  },
  {
   "cell_type": "code",
   "execution_count": null,
   "metadata": {},
   "outputs": [],
   "source": [
    "acc = model.score(X_test_flattened, y_test)"
   ]
  },
  {
   "cell_type": "code",
   "execution_count": null,
   "metadata": {},
   "outputs": [],
   "source": [
    "print(acc)"
   ]
  },
  {
   "cell_type": "code",
   "execution_count": null,
   "metadata": {},
   "outputs": [],
   "source": [
    "len(well_classified)"
   ]
  },
  {
   "cell_type": "code",
   "execution_count": null,
   "metadata": {},
   "outputs": [],
   "source": [
    "len(misclassified)"
   ]
  },
  {
   "cell_type": "code",
   "execution_count": null,
   "metadata": {},
   "outputs": [],
   "source": [
    "ix = well_classified[0]\n",
    "show_image(X_test[ix])\n",
    "print(\"label: {}\".format(y_test[ix]))\n",
    "print(\"prediction: {}\".format(predicted[ix]))"
   ]
  },
  {
   "cell_type": "code",
   "execution_count": null,
   "metadata": {},
   "outputs": [],
   "source": [
    "ix = misclassified[0]\n",
    "show_image(X_test[ix])\n",
    "print(\"label: {}\".format(y_test[ix]))\n",
    "print(\"prediction: {}\".format(predicted[ix]))"
   ]
  },
  {
   "cell_type": "code",
   "execution_count": null,
   "metadata": {},
   "outputs": [],
   "source": [
    "X_train.shape"
   ]
  },
  {
   "cell_type": "markdown",
   "metadata": {},
   "source": [
    "## Image classification with a Convolutional Neural Network (CNN)"
   ]
  },
  {
   "cell_type": "code",
   "execution_count": null,
   "metadata": {},
   "outputs": [],
   "source": [
    "Y_train = np_utils.to_categorical(y_train, NR_CLASSES) \n",
    "Y_test = np_utils.to_categorical(y_test, NR_CLASSES)"
   ]
  },
  {
   "cell_type": "code",
   "execution_count": null,
   "metadata": {},
   "outputs": [],
   "source": [
    "def build_CNN(input_shape, nr_classes):\n",
    "    X_input = Input(input_shape)\n",
    "    X = Conv2D(filters=32, kernel_size=(7, 7), strides=(2, 2), kernel_initializer=glorot_uniform(seed=2112))(X_input)\n",
    "    X = Activation(\"relu\")(X)\n",
    "    X = MaxPooling2D((3, 3), strides=(2, 2))(X)\n",
    "    X = Conv2D(filters=16, kernel_size=(3, 3), strides=(2, 2))(X)\n",
    "    X = Activation(\"relu\")(X)\n",
    "    X = MaxPooling2D((3, 3), strides=(2, 2))(X)\n",
    "    X = Flatten()(X)\n",
    "    X = Dense(nr_classes, activation=\"softmax\")(X)\n",
    "    model = Model(inputs=X_input, outputs=X)\n",
    "    return model"
   ]
  },
  {
   "cell_type": "code",
   "execution_count": null,
   "metadata": {},
   "outputs": [],
   "source": [
    "model = build_CNN((100, 100, 1), NR_CLASSES)"
   ]
  },
  {
   "cell_type": "code",
   "execution_count": null,
   "metadata": {},
   "outputs": [],
   "source": [
    "model.compile(optimizer=\"adam\", loss=\"categorical_crossentropy\", metrics=[metrics.categorical_accuracy])"
   ]
  },
  {
   "cell_type": "code",
   "execution_count": null,
   "metadata": {},
   "outputs": [],
   "source": [
    "history = model.fit(x=X_train, y=Y_train, epochs=20, batch_size=16)"
   ]
  },
  {
   "cell_type": "code",
   "execution_count": null,
   "metadata": {},
   "outputs": [],
   "source": [
    "predicted_probs = model.predict(X_test)\n",
    "predicted_classes = np.argmax(predicted_probs, axis=1)"
   ]
  },
  {
   "cell_type": "code",
   "execution_count": null,
   "metadata": {},
   "outputs": [],
   "source": [
    "predicted_classes"
   ]
  },
  {
   "cell_type": "code",
   "execution_count": null,
   "metadata": {},
   "outputs": [],
   "source": [
    "_, acc = model.evaluate(X_test, Y_test)"
   ]
  },
  {
   "cell_type": "code",
   "execution_count": null,
   "metadata": {},
   "outputs": [],
   "source": [
    "acc"
   ]
  }
 ],
 "metadata": {
  "kernelspec": {
   "display_name": "Python 3",
   "language": "python",
   "name": "python3"
  },
  "language_info": {
   "codemirror_mode": {
    "name": "ipython",
    "version": 3
   },
   "file_extension": ".py",
   "mimetype": "text/x-python",
   "name": "python",
   "nbconvert_exporter": "python",
   "pygments_lexer": "ipython3",
   "version": "3.6.6"
  }
 },
 "nbformat": 4,
 "nbformat_minor": 2
}
