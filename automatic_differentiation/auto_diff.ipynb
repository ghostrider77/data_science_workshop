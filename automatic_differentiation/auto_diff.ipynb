{
 "cells": [
  {
   "cell_type": "markdown",
   "metadata": {},
   "source": [
    "# Automatic differentiation\n",
    "\n",
    "There are lots of applications in engineering that requires the computation of the derivative of a function. The simplest example is Newton's method which is a fast iterative algorithm that finds the root of a nonlinear equation:\n",
    "\n",
    "$$\n",
    "x_{n+1} = x_n - \\frac{f(x_n)}{f'(x_n)}.\n",
    "$$\n",
    "\n",
    "There are, of course, more complicated applications where (apart from the function values) the derivatives are required, for instance training a neural network requires the minimization of a cost function by gradient descent which requires the derivatives of the cost function with respect to the parameters (weights, biases).\n",
    "\n",
    "\n",
    "### How to calculate the derivative of a function?\n",
    "\n",
    "* symbolic differentiation: either the derivative of $f$ is known exactly in advance or a computer algebraic program calculates it\n",
    "* numerical differentiation: approximate the value of $f'(x)$ with finite differences:\n",
    "$$\n",
    "f'(x)\\approx \\frac{f(x+\\epsilon) - f(x-\\epsilon)}{2\\epsilon}\n",
    "$$\n",
    "* automatic differentiation: use a mechanism that calculates the derivative together with the function value without any extra effort, that is, automatically.\n",
    "\n",
    "\n",
    "\n",
    "### Dual numbers\n",
    "\n",
    "A dual number can be represented as a symbolic expression $a + b\\cdot\\epsilon$, where $\\epsilon^2 = 0$. More precisely, a dual number is a pair of real numbers $(a, b)$, such that addition, subtraction, multiplication and division is defined as follows:\n",
    "\n",
    "* $(a + b\\epsilon) + (c + d\\epsilon) = (a + c) + (b + d)\\epsilon$\n",
    "* $(a + b\\epsilon) \\cdot (c + d\\epsilon) = ac + (ad + bc)\\epsilon$\n",
    "* $-(a + b\\epsilon) = -a + (-b)\\epsilon$\n",
    "* $(a + b\\epsilon) / (c + d\\epsilon) = \\frac{a}{c} + \\frac{bc - ad}{c^2}\\epsilon$\n",
    "\n",
    "Let us assume that $p$ is a polynomial of degree $n$:\n",
    "$$\n",
    "p(x) = a_0 + a_1x + a_2x^2 + \\ldots + a_nx^n.\n",
    "$$\n",
    "Let $x = a + b\\epsilon$ be a dual number, then\n",
    "$$\n",
    "p(x) = p(a + b\\epsilon) = p(a) + b\\cdot p'(a)\\cdot\\epsilon.\n",
    "$$\n",
    "Then for any analytic function $f$, the dual number $(a, b)$ is mapped to the dual number $(f(a), bf'(a))$. This means that by extending the usual function definitions to dual numbers, the derivative is calculated along the function value with no extra effort.\n",
    "\n",
    "As an example, the trigonometric sine function should be overriden with the following new definition:\n",
    "$$\n",
    "\\sin x = \\sin\\ (a, b) := (\\sin a, b\\cdot cos a).\n",
    "$$"
   ]
  },
  {
   "cell_type": "code",
   "execution_count": null,
   "metadata": {},
   "outputs": [],
   "source": [
    "# for python 2.x\n",
    "from __future__ import division"
   ]
  },
  {
   "cell_type": "code",
   "execution_count": null,
   "metadata": {},
   "outputs": [],
   "source": [
    "# source: https://github.com/jeppe742/AutoDiff\n",
    "from autodiff import AdFloat, cos"
   ]
  },
  {
   "cell_type": "code",
   "execution_count": null,
   "metadata": {},
   "outputs": [],
   "source": [
    "MAX_ITERATION = 20\n",
    "\n",
    "def evaluate(d, func):\n",
    "    dual = AdFloat(d)\n",
    "    return func(dual)\n",
    "\n",
    "\n",
    "def find_root(func, initial, tolerance=1e-10):\n",
    "    x_approx = initial\n",
    "    nr_iterations = 0\n",
    "    while nr_iterations < MAX_ITERATION:\n",
    "        evaluated = evaluate(x_approx, func)\n",
    "        x_approx_next = x_approx - evaluated.x / evaluated.dx\n",
    "        if abs(x_approx - x_approx_next) / abs(x_approx + tolerance) < tolerance:\n",
    "            return x_approx\n",
    "        x_approx = x_approx_next\n",
    "        nr_iterations += 1\n",
    "    print(\"did not converge\")    \n",
    "    return"
   ]
  },
  {
   "cell_type": "code",
   "execution_count": null,
   "metadata": {},
   "outputs": [],
   "source": [
    "f = lambda x: x ** 3 + x - 1000\n",
    "initial = 8\n",
    "\n",
    "root = find_root(f, initial)\n",
    "print(root)"
   ]
  },
  {
   "cell_type": "code",
   "execution_count": null,
   "metadata": {},
   "outputs": [],
   "source": [
    "f = lambda x: cos(x) - x\n",
    "initial = 0\n",
    "\n",
    "root = find_root(f, initial)\n",
    "print(root)"
   ]
  }
 ],
 "metadata": {
  "kernelspec": {
   "display_name": "Python 3",
   "language": "python",
   "name": "python3"
  },
  "language_info": {
   "codemirror_mode": {
    "name": "ipython",
    "version": 3
   },
   "file_extension": ".py",
   "mimetype": "text/x-python",
   "name": "python",
   "nbconvert_exporter": "python",
   "pygments_lexer": "ipython3",
   "version": "3.6.6"
  }
 },
 "nbformat": 4,
 "nbformat_minor": 2
}
